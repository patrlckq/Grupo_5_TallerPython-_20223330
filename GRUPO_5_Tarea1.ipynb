{
  "nbformat": 4,
  "nbformat_minor": 0,
  "metadata": {
    "colab": {
      "provenance": []
    },
    "kernelspec": {
      "name": "python3",
      "display_name": "Python 3"
    },
    "language_info": {
      "name": "python"
    }
  },
  "cells": [
    {
      "cell_type": "code",
      "execution_count": null,
      "metadata": {
        "colab": {
          "base_uri": "https://localhost:8080/"
        },
        "id": "YGWV2APS2lh4",
        "outputId": "f20d1681-d70a-42b1-f71d-f66cca608fdd"
      },
      "outputs": [
        {
          "output_type": "stream",
          "name": "stdout",
          "text": [
            "Es multiplo de 2 y 3\n"
          ]
        }
      ],
      "source": [
        "# Ejercicio 1\n",
        "\n",
        "x = 6\n",
        "\n",
        "if x == 0:\n",
        "    print(\"No vale introducir el 0\")\n",
        "elif x % 2 == 0 and x % 3 == 0:\n",
        "    print(\"Es multiplo de 2 y 3\")\n",
        "elif x % 2 == 0:\n",
        "  print(\"Es múltiplo de 2\")\n",
        "elif x % 3 == 0:\n",
        "    print(\"Es multiplo de 3\")\n",
        "else:\n",
        "    print(\"Otro caso\")"
      ]
    },
    {
      "cell_type": "code",
      "source": [
        "# Pregunta 2\n",
        "rango = list(range(1,101))\n",
        "\n",
        "for n in rango:\n",
        "    numero_3 = n % 3\n",
        "    numero_5 = n % 5\n",
        "    if numero_3 == numero_5 == 0:\n",
        "        print(\"FizzBuzz\")\n",
        "    elif numero_3 == 0:\n",
        "        print(\"Fizz\")\n",
        "    elif  numero_5 == 0:\n",
        "        print(\"Buzz\")\n",
        "    else:\n",
        "        print(n)"
      ],
      "metadata": {
        "colab": {
          "base_uri": "https://localhost:8080/"
        },
        "id": "3Fn3F0DeMp_r",
        "outputId": "c3ba6697-8a76-4b81-822f-3ee998fb86ce"
      },
      "execution_count": null,
      "outputs": [
        {
          "output_type": "stream",
          "name": "stdout",
          "text": [
            "1\n",
            "2\n",
            "Fizz\n",
            "4\n",
            "Buzz\n",
            "Fizz\n",
            "7\n",
            "8\n",
            "Fizz\n",
            "Buzz\n",
            "11\n",
            "Fizz\n",
            "13\n",
            "14\n",
            "FizzBuzz\n",
            "16\n",
            "17\n",
            "Fizz\n",
            "19\n",
            "Buzz\n",
            "Fizz\n",
            "22\n",
            "23\n",
            "Fizz\n",
            "Buzz\n",
            "26\n",
            "Fizz\n",
            "28\n",
            "29\n",
            "FizzBuzz\n",
            "31\n",
            "32\n",
            "Fizz\n",
            "34\n",
            "Buzz\n",
            "Fizz\n",
            "37\n",
            "38\n",
            "Fizz\n",
            "Buzz\n",
            "41\n",
            "Fizz\n",
            "43\n",
            "44\n",
            "FizzBuzz\n",
            "46\n",
            "47\n",
            "Fizz\n",
            "49\n",
            "Buzz\n",
            "Fizz\n",
            "52\n",
            "53\n",
            "Fizz\n",
            "Buzz\n",
            "56\n",
            "Fizz\n",
            "58\n",
            "59\n",
            "FizzBuzz\n",
            "61\n",
            "62\n",
            "Fizz\n",
            "64\n",
            "Buzz\n",
            "Fizz\n",
            "67\n",
            "68\n",
            "Fizz\n",
            "Buzz\n",
            "71\n",
            "Fizz\n",
            "73\n",
            "74\n",
            "FizzBuzz\n",
            "76\n",
            "77\n",
            "Fizz\n",
            "79\n",
            "Buzz\n",
            "Fizz\n",
            "82\n",
            "83\n",
            "Fizz\n",
            "Buzz\n",
            "86\n",
            "Fizz\n",
            "88\n",
            "89\n",
            "FizzBuzz\n",
            "91\n",
            "92\n",
            "Fizz\n",
            "94\n",
            "Buzz\n",
            "Fizz\n",
            "97\n",
            "98\n",
            "Fizz\n",
            "Buzz\n"
          ]
        }
      ]
    },
    {
      "cell_type": "code",
      "source": [
        "# Ejercicio 3\n",
        "def calcular_descuento(x_total):\n",
        "    if x_total >= 1000:\n",
        "         nuevo_precio = x_total *(1- 0.2)\n",
        "    elif x_total > 500:\n",
        "        nuevo_precio = x_total * (1-0.1)\n",
        "    elif x_total >= 1:\n",
        "        nuevo_precio = x_total\n",
        "    else:\n",
        "        nuevo_precio = \"Ingrese un monto mayor a 0\"\n",
        "    return nuevo_precio\n",
        "\n",
        "print(calcular_descuento(1200))\n",
        "print(calcular_descuento(750))\n",
        "print(calcular_descuento(300))"
      ],
      "metadata": {
        "colab": {
          "base_uri": "https://localhost:8080/"
        },
        "id": "-jwmsi5MvQMd",
        "outputId": "46087c2f-cee4-4e7c-d0cd-66bfa4297b9f"
      },
      "execution_count": null,
      "outputs": [
        {
          "output_type": "stream",
          "name": "stdout",
          "text": [
            "960.0\n",
            "675.0\n",
            "300\n"
          ]
        }
      ]
    },
    {
      "cell_type": "code",
      "source": [
        "# Ejercicio 4\n",
        "def clasificar_edad(edad):\n",
        "    if edad < 12:\n",
        "        return \"Niño\"\n",
        "    if 12 < edad < 18:\n",
        "        return \"Adolescente\"\n",
        "    if 18 < edad < 24:\n",
        "        return \"Joven\"\n",
        "    if 25 <= edad < 64:\n",
        "        return \"Adulto\"\n",
        "    if edad >= 65:\n",
        "        return \"Adulto mayor\"\n",
        "\n",
        "print(clasificar_edad(10))\n",
        "print(clasificar_edad(19))\n",
        "print(clasificar_edad(25))\n",
        "print(clasificar_edad(70))"
      ],
      "metadata": {
        "id": "TahckmkoBQWY",
        "colab": {
          "base_uri": "https://localhost:8080/"
        },
        "outputId": "5adfca08-ae3b-4415-b294-6c37e4b13b74"
      },
      "execution_count": null,
      "outputs": [
        {
          "output_type": "stream",
          "name": "stdout",
          "text": [
            "Niño\n",
            "Joven\n",
            "Adulto\n",
            "Adulto mayor\n"
          ]
        }
      ]
    },
    {
      "cell_type": "code",
      "source": [
        "# Pregunta 5\n",
        "\n",
        "'''\n",
        "\n",
        "En primer lugar, se define una nueva función llamada calcular_craest\n",
        "Está compuesta por tres variables : media_personal, media_curso, desviación_estándar\n",
        "Conociendo la formula del CRAEST la introducimos debajo de la nueva función\n",
        "(En este caso la función se encuentra en trozos para que no se vea tan saturado)\n",
        "  CRAEST = ((media_personal - media_curso)*10)/desviación_estándar + 50\n",
        "\n",
        "Finalmente, definimos una variable que servirá de output a los inputs que le demos a la función\n",
        "(La variable se llamará CRAEST)\n",
        "Finalmente, se utiliza el comando print(calcular_craest()) para que el programa devuelva un output despues de nosotros insertar un input\n",
        "(En este caso el input viene dado por mi nota cuando cursé Anafin)\n",
        "\n",
        "\n",
        "'''\n",
        "\n",
        "def calcular_craest(media_personal,media_curso,desviación_estándar):\n",
        "    craest1 = (media_personal - media_curso)*10\n",
        "    craest2 = craest1/desviación_estándar\n",
        "\n",
        "    CRAEST = craest2 + 50\n",
        "\n",
        "    return CRAEST\n",
        "\n",
        "print(calcular_craest(18,13.09,3))"
      ],
      "metadata": {
        "id": "B6Ia6GpRDHNR",
        "colab": {
          "base_uri": "https://localhost:8080/"
        },
        "outputId": "d0beedc1-3dbc-471b-9c83-8d7da116251f"
      },
      "execution_count": null,
      "outputs": [
        {
          "output_type": "stream",
          "name": "stdout",
          "text": [
            "66.36666666666667\n"
          ]
        }
      ]
    }
  ]
}